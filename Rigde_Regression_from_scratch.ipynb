{
 "cells": [
  {
   "cell_type": "code",
   "execution_count": 1,
   "metadata": {},
   "outputs": [],
   "source": [
    "## Import Libraries\n",
    "import pandas as pd\n",
    "import matplotlib.pyplot as plt\n",
    "import numpy as np\n",
    "from sklearn.datasets import make_regression\n",
    "%matplotlib inline"
   ]
  },
  {
   "cell_type": "code",
   "execution_count": 2,
   "metadata": {},
   "outputs": [],
   "source": [
    "## Creating own dataset\n",
    "X,Y = make_regression(n_samples=100, n_features=1, n_informative=1, n_targets=1,noise=20,random_state=13)"
   ]
  },
  {
   "cell_type": "code",
   "execution_count": 3,
   "metadata": {},
   "outputs": [
    {
     "data": {
      "text/plain": [
       "<matplotlib.collections.PathCollection at 0x1efe857bfd0>"
      ]
     },
     "execution_count": 3,
     "metadata": {},
     "output_type": "execute_result"
    },
    {
     "data": {
      "image/png": "[encoded data removed]",
      "text/plain": [
       "<Figure size 432x288 with 1 Axes>"
      ]
     },
     "metadata": {
      "needs_background": "light"
     },
     "output_type": "display_data"
    }
   ],
   "source": [
    "## Plot the points\n",
    "plt.scatter(X,Y)"
   ]
  },
  {
   "cell_type": "code",
   "execution_count": 4,
   "metadata": {},
   "outputs": [],
   "source": [
    "## Train Test Split\n",
    "from sklearn.model_selection import train_test_split\n",
    "X_train,X_test,Y_train,Y_test=train_test_split(X,Y,test_size=0.2,random_state=42)"
   ]
  },
  {
   "cell_type": "code",
   "execution_count": 5,
   "metadata": {},
   "outputs": [],
   "source": [
    "## Scaling\n",
    "from sklearn.preprocessing import StandardScaler\n",
    "scaler=StandardScaler()\n",
    "X_train=scaler.fit_transform(X_train)\n",
    "X_test=scaler.transform(X_test)"
   ]
  },
  {
   "cell_type": "code",
   "execution_count": 6,
   "metadata": {},
   "outputs": [
    {
     "name": "stdout",
     "output_type": "stream",
     "text": [
      "Coefficient= [26.32664243]\n",
      "Intercept= -2.026574926744717\n",
      "Mean Absolute Error= 15.314816256456202\n",
      "Mean Squared Error= 340.30278331801367\n",
      "Root Mean Squared Error= 18.44729745296079\n",
      "Score= 0.6186926408914154\n"
     ]
    }
   ],
   "source": [
    "## Linear Regression\n",
    "from sklearn.linear_model import LinearRegression\n",
    "Linear_reg=LinearRegression()\n",
    "Linear_reg.fit(X_train,Y_train)\n",
    "Y_pred=Linear_reg.predict(X_test)\n",
    "\n",
    "## Print Coefficient and Intercept\n",
    "print(\"Coefficient=\",Linear_reg.coef_)\n",
    "print(\"Intercept=\",Linear_reg.intercept_)\n",
    "\n",
    "## Print metrics\n",
    "from sklearn.metrics import mean_absolute_error,mean_squared_error,r2_score\n",
    "mae=mean_absolute_error(Y_test,Y_pred)\n",
    "mse=mean_squared_error(Y_test,Y_pred)\n",
    "rmse=np.sqrt(mse)\n",
    "print(\"Mean Absolute Error=\",mae)\n",
    "print(\"Mean Squared Error=\",mse)\n",
    "print(\"Root Mean Squared Error=\",rmse)\n",
    "\n",
    "## Print Score\n",
    "score=r2_score(Y_test,Y_pred)\n",
    "print(\"Score=\",score)"
   ]
  },
  {
   "cell_type": "code",
   "execution_count": 7,
   "metadata": {},
   "outputs": [
    {
     "name": "stdout",
     "output_type": "stream",
     "text": [
      "Coefficient= [23.40145994]\n",
      "Intercept= -2.026574926744717\n",
      "Mean Absolute Error= 15.1893733966171\n",
      "Mean Squared Error= 339.9499653580328\n",
      "Root Mean Squared Error= 18.437732109943262\n",
      "Score= 0.6190879714357462\n"
     ]
    }
   ],
   "source": [
    "## Ridge with alpha=10\n",
    "from sklearn.linear_model import Ridge\n",
    "Ridge_reg1=Ridge(alpha=10)\n",
    "Ridge_reg1.fit(X_train,Y_train)\n",
    "Y_pred=Ridge_reg1.predict(X_test)\n",
    "\n",
    "## Print Coefficient and Intercept\n",
    "print(\"Coefficient=\",Ridge_reg1.coef_)\n",
    "print(\"Intercept=\",Ridge_reg1.intercept_)\n",
    "\n",
    "## Print metrics\n",
    "from sklearn.metrics import mean_absolute_error,mean_squared_error,r2_score\n",
    "mae=mean_absolute_error(Y_test,Y_pred)\n",
    "mse=mean_squared_error(Y_test,Y_pred)\n",
    "rmse=np.sqrt(mse)\n",
    "print(\"Mean Absolute Error=\",mae)\n",
    "print(\"Mean Squared Error=\",mse)\n",
    "print(\"Root Mean Squared Error=\",rmse)\n",
    "\n",
    "## Print Score\n",
    "score=r2_score(Y_test,Y_pred)\n",
    "print(\"Score=\",score)\n"
   ]
  },
  {
   "cell_type": "code",
   "execution_count": 8,
   "metadata": {},
   "outputs": [
    {
     "name": "stdout",
     "output_type": "stream",
     "text": [
      "Coefficient= [11.70072997]\n",
      "Intercept= -2.026574926744717\n",
      "Mean Absolute Error= 19.102122785289787\n",
      "Mean Squared Error= 505.59017533138103\n",
      "Root Mean Squared Error= 22.485332448762705\n",
      "Score= 0.43348904564586854\n"
     ]
    }
   ],
   "source": [
    "## Ridge with alpha=100\n",
    "from sklearn.linear_model import Ridge\n",
    "Ridge_reg2=Ridge(alpha=100)\n",
    "Ridge_reg2.fit(X_train,Y_train)\n",
    "Y_pred=Ridge_reg2.predict(X_test)\n",
    "\n",
    "## Print Coefficient and Intercept\n",
    "print(\"Coefficient=\",Ridge_reg2.coef_)\n",
    "print(\"Intercept=\",Ridge_reg2.intercept_)\n",
    "\n",
    "## Print metrics\n",
    "from sklearn.metrics import mean_absolute_error,mean_squared_error,r2_score\n",
    "mae=mean_absolute_error(Y_test,Y_pred)\n",
    "mse=mean_squared_error(Y_test,Y_pred)\n",
    "rmse=np.sqrt(mse)\n",
    "print(\"Mean Absolute Error=\",mae)\n",
    "print(\"Mean Squared Error=\",mse)\n",
    "print(\"Root Mean Squared Error=\",rmse)\n",
    "\n",
    "## Print Score\n",
    "score=r2_score(Y_test,Y_pred)\n",
    "print(\"Score=\",score)"
   ]
  },
  {
   "cell_type": "markdown",
   "metadata": {},
   "source": [
    "Coefficient is decresing with alpha value increase and thus the overfiiting caused by linear regression is also reduced with ridge"
   ]
  },
  {
   "cell_type": "code",
   "execution_count": 9,
   "metadata": {},
   "outputs": [
    {
     "data": {
      "text/plain": [
       "[<matplotlib.lines.Line2D at 0x1efec950df0>]"
      ]
     },
     "execution_count": 9,
     "metadata": {},
     "output_type": "execute_result"
    },
    {
     "data": {
      "image/png": "[encoded data removed]",
      "text/plain": [
       "<Figure size 432x288 with 1 Axes>"
      ]
     },
     "metadata": {
      "needs_background": "light"
     },
     "output_type": "display_data"
    }
   ],
   "source": [
    "## Plotting Linear Regression,Ridge with alpha 10 and Ridge with alpha 100 lines\n",
    "plt.plot(X_test,Y_test,'b.')\n",
    "plt.plot(X_test,Linear_reg.predict(X_test),color='r',label='alpha 0/Linear Regression')\n",
    "plt.plot(X_test,Ridge_reg1.predict(X_test),color='g',label='alpha 10')\n",
    "plt.plot(X_test,Ridge_reg2.predict(X_test),color='b',label='alpha 100')"
   ]
  },
  {
   "cell_type": "markdown",
   "metadata": {},
   "source": [
    "The red line is linear  Regression line i.e. with alpha 0 --> Without penalty term--> Overfitted Line----------------\n",
    "The Green Line is neutral line -----------------------------------------\n",
    "The Blue line is with alpha 100--> Underfitted line"
   ]
  },
  {
   "cell_type": "code",
   "execution_count": 10,
   "metadata": {},
   "outputs": [],
   "source": [
    "class Manual_Ridge:\n",
    "\n",
    "    def __init__(self,alpha=0.1):\n",
    "        self.alpha=alpha\n",
    "        self.m=None\n",
    "        self.b=None\n",
    "\n",
    "    def fit(self,X_train,Y_train):\n",
    "        num=0\n",
    "        den=0\n",
    "        for i in range(X_train.shape[0]):\n",
    "            num=num+((Y_train[i]-np.mean(Y_train))*(X_train[i]-np.mean(X_train)))\n",
    "            den=den+((X_train[i]-np.mean(X_train))*(X_train[i]-np.mean(X_train)))\n",
    "        \n",
    "        m=num/(den+self.alpha)\n",
    "        b=np.mean(Y_train)-(m*np.mean(X_train))\n",
    "        print(\"Coef:\",m)\n",
    "        print(\"Intercept:\",b)\n",
    "\n",
    "    def predict(self,X_test):\n",
    "        y_pred= (self.m* X_test)+self.b\n",
    "        print(y_pred)\n"
   ]
  },
  {
   "cell_type": "code",
   "execution_count": 11,
   "metadata": {},
   "outputs": [
    {
     "name": "stdout",
     "output_type": "stream",
     "text": [
      "Coef: [26.32664243]\n",
      "Intercept: [-2.02657493]\n"
     ]
    }
   ],
   "source": [
    "Ridge1=Manual_Ridge(alpha=0)\n",
    "Ridge1.fit(X_train,Y_train)"
   ]
  },
  {
   "cell_type": "code",
   "execution_count": 12,
   "metadata": {},
   "outputs": [
    {
     "name": "stdout",
     "output_type": "stream",
     "text": [
      "Coef: [23.40145994]\n",
      "Intercept: [-2.02657493]\n"
     ]
    }
   ],
   "source": [
    "Ridge1=Manual_Ridge(alpha=10)\n",
    "Ridge1.fit(X_train,Y_train)"
   ]
  },
  {
   "cell_type": "code",
   "execution_count": 13,
   "metadata": {},
   "outputs": [
    {
     "name": "stdout",
     "output_type": "stream",
     "text": [
      "Coef: [11.70072997]\n",
      "Intercept: [-2.02657493]\n"
     ]
    }
   ],
   "source": [
    "Ridge1=Manual_Ridge(alpha=100)\n",
    "Ridge1.fit(X_train,Y_train)"
   ]
  },
  {
   "cell_type": "markdown",
   "metadata": {},
   "source": [
    "The output with ridge default function and its output from scartch coding is same"
   ]
  },
  {
   "cell_type": "markdown",
   "metadata": {},
   "source": [
    "### Key Understandings"
   ]
  },
  {
   "cell_type": "markdown",
   "metadata": {},
   "source": [
    "1. How coefficients are getting affected\n",
    "--> As we will increase the lambda value the coefficients will shrink ,they may reach 0 but will never be 0,they will have some value"
   ]
  },
  {
   "cell_type": "code",
   "execution_count": 14,
   "metadata": {},
   "outputs": [],
   "source": [
    "## Import libraries\n",
    "from sklearn.datasets import load_diabetes"
   ]
  },
  {
   "cell_type": "code",
   "execution_count": 15,
   "metadata": {},
   "outputs": [
    {
     "data": {
      "text/plain": [
       "{'data': array([[ 0.03807591,  0.05068012,  0.06169621, ..., -0.00259226,\n",
       "          0.01990749, -0.01764613],\n",
       "        [-0.00188202, -0.04464164, -0.05147406, ..., -0.03949338,\n",
       "         -0.06833155, -0.09220405],\n",
       "        [ 0.08529891,  0.05068012,  0.04445121, ..., -0.00259226,\n",
       "          0.00286131, -0.02593034],\n",
       "        ...,\n",
       "        [ 0.04170844,  0.05068012, -0.01590626, ..., -0.01107952,\n",
       "         -0.04688253,  0.01549073],\n",
       "        [-0.04547248, -0.04464164,  0.03906215, ...,  0.02655962,\n",
       "          0.04452873, -0.02593034],\n",
       "        [-0.04547248, -0.04464164, -0.0730303 , ..., -0.03949338,\n",
       "         -0.00422151,  0.00306441]]),\n",
       " 'target': array([151.,  75., 141., 206., 135.,  97., 138.,  63., 110., 310., 101.,\n",
       "         69., 179., 185., 118., 171., 166., 144.,  97., 168.,  68.,  49.,\n",
       "         68., 245., 184., 202., 137.,  85., 131., 283., 129.,  59., 341.,\n",
       "         87.,  65., 102., 265., 276., 252.,  90., 100.,  55.,  61.,  92.,\n",
       "        259.,  53., 190., 142.,  75., 142., 155., 225.,  59., 104., 182.,\n",
       "        128.,  52.,  37., 170., 170.,  61., 144.,  52., 128.,  71., 163.,\n",
       "        150.,  97., 160., 178.,  48., 270., 202., 111.,  85.,  42., 170.,\n",
       "        200., 252., 113., 143.,  51.,  52., 210.,  65., 141.,  55., 134.,\n",
       "         42., 111.,  98., 164.,  48.,  96.,  90., 162., 150., 279.,  92.,\n",
       "         83., 128., 102., 302., 198.,  95.,  53., 134., 144., 232.,  81.,\n",
       "        104.,  59., 246., 297., 258., 229., 275., 281., 179., 200., 200.,\n",
       "        173., 180.,  84., 121., 161.,  99., 109., 115., 268., 274., 158.,\n",
       "        107.,  83., 103., 272.,  85., 280., 336., 281., 118., 317., 235.,\n",
       "         60., 174., 259., 178., 128.,  96., 126., 288.,  88., 292.,  71.,\n",
       "        197., 186.,  25.,  84.,  96., 195.,  53., 217., 172., 131., 214.,\n",
       "         59.,  70., 220., 268., 152.,  47.,  74., 295., 101., 151., 127.,\n",
       "        237., 225.,  81., 151., 107.,  64., 138., 185., 265., 101., 137.,\n",
       "        143., 141.,  79., 292., 178.,  91., 116.,  86., 122.,  72., 129.,\n",
       "        142.,  90., 158.,  39., 196., 222., 277.,  99., 196., 202., 155.,\n",
       "         77., 191.,  70.,  73.,  49.,  65., 263., 248., 296., 214., 185.,\n",
       "         78.,  93., 252., 150.,  77., 208.,  77., 108., 160.,  53., 220.,\n",
       "        154., 259.,  90., 246., 124.,  67.,  72., 257., 262., 275., 177.,\n",
       "         71.,  47., 187., 125.,  78.,  51., 258., 215., 303., 243.,  91.,\n",
       "        150., 310., 153., 346.,  63.,  89.,  50.,  39., 103., 308., 116.,\n",
       "        145.,  74.,  45., 115., 264.,  87., 202., 127., 182., 241.,  66.,\n",
       "         94., 283.,  64., 102., 200., 265.,  94., 230., 181., 156., 233.,\n",
       "         60., 219.,  80.,  68., 332., 248.,  84., 200.,  55.,  85.,  89.,\n",
       "         31., 129.,  83., 275.,  65., 198., 236., 253., 124.,  44., 172.,\n",
       "        114., 142., 109., 180., 144., 163., 147.,  97., 220., 190., 109.,\n",
       "        191., 122., 230., 242., 248., 249., 192., 131., 237.,  78., 135.,\n",
       "        244., 199., 270., 164.,  72.,  96., 306.,  91., 214.,  95., 216.,\n",
       "        263., 178., 113., 200., 139., 139.,  88., 148.,  88., 243.,  71.,\n",
       "         77., 109., 272.,  60.,  54., 221.,  90., 311., 281., 182., 321.,\n",
       "         58., 262., 206., 233., 242., 123., 167.,  63., 197.,  71., 168.,\n",
       "        140., 217., 121., 235., 245.,  40.,  52., 104., 132.,  88.,  69.,\n",
       "        219.,  72., 201., 110.,  51., 277.,  63., 118.,  69., 273., 258.,\n",
       "         43., 198., 242., 232., 175.,  93., 168., 275., 293., 281.,  72.,\n",
       "        140., 189., 181., 209., 136., 261., 113., 131., 174., 257.,  55.,\n",
       "         84.,  42., 146., 212., 233.,  91., 111., 152., 120.,  67., 310.,\n",
       "         94., 183.,  66., 173.,  72.,  49.,  64.,  48., 178., 104., 132.,\n",
       "        220.,  57.]),\n",
       " 'frame': None,\n",
       " 'DESCR': '.. _diabetes_dataset:\\n\\nDiabetes dataset\\n----------------\\n\\nTen baseline variables, age, sex, body mass index, average blood\\npressure, and six blood serum measurements were obtained for each of n =\\n442 diabetes patients, as well as the response of interest, a\\nquantitative measure of disease progression one year after baseline.\\n\\n**Data Set Characteristics:**\\n\\n  :Number of Instances: 442\\n\\n  :Number of Attributes: First 10 columns are numeric predictive values\\n\\n  :Target: Column 11 is a quantitative measure of disease progression one year after baseline\\n\\n  :Attribute Information:\\n      - age     age in years\\n      - sex\\n      - bmi     body mass index\\n      - bp      average blood pressure\\n      - s1      tc, total serum cholesterol\\n      - s2      ldl, low-density lipoproteins\\n      - s3      hdl, high-density lipoproteins\\n      - s4      tch, total cholesterol / HDL\\n      - s5      ltg, possibly log of serum triglycerides level\\n      - s6      glu, blood sugar level\\n\\nNote: Each of these 10 feature variables have been mean centered and scaled by the standard deviation times the square root of `n_samples` (i.e. the sum of squares of each column totals 1).\\n\\nSource URL:\\nhttps://www4.stat.ncsu.edu/~boos/var.select/diabetes.html\\n\\nFor more information see:\\nBradley Efron, Trevor Hastie, Iain Johnstone and Robert Tibshirani (2004) \"Least Angle Regression,\" Annals of Statistics (with discussion), 407-499.\\n(https://web.stanford.edu/~hastie/Papers/LARS/LeastAngle_2002.pdf)\\n',\n",
       " 'feature_names': ['age',\n",
       "  'sex',\n",
       "  'bmi',\n",
       "  'bp',\n",
       "  's1',\n",
       "  's2',\n",
       "  's3',\n",
       "  's4',\n",
       "  's5',\n",
       "  's6'],\n",
       " 'data_filename': 'diabetes_data_raw.csv.gz',\n",
       " 'target_filename': 'diabetes_target.csv.gz',\n",
       " 'data_module': 'sklearn.datasets.data'}"
      ]
     },
     "execution_count": 15,
     "metadata": {},
     "output_type": "execute_result"
    }
   ],
   "source": [
    "df_diabetes=load_diabetes()\n",
    "df_diabetes"
   ]
  },
  {
   "cell_type": "code",
   "execution_count": 17,
   "metadata": {},
   "outputs": [
    {
     "data": {
      "text/html": [
       "<div>\n",
       "<style scoped>\n",
       "    .dataframe tbody tr th:only-of-type {\n",
       "        vertical-align: middle;\n",
       "    }\n",
       "\n",
       "    .dataframe tbody tr th {\n",
       "        vertical-align: top;\n",
       "    }\n",
       "\n",
       "    .dataframe thead th {\n",
       "        text-align: right;\n",
       "    }\n",
       "</style>\n",
       "<table border=\"1\" class=\"dataframe\">\n",
       "  <thead>\n",
       "    <tr style=\"text-align: right;\">\n",
       "      <th></th>\n",
       "      <th>age</th>\n",
       "      <th>sex</th>\n",
       "      <th>bmi</th>\n",
       "      <th>bp</th>\n",
       "      <th>s1</th>\n",
       "      <th>s2</th>\n",
       "      <th>s3</th>\n",
       "      <th>s4</th>\n",
       "      <th>s5</th>\n",
       "      <th>s6</th>\n",
       "      <th>Target</th>\n",
       "    </tr>\n",
       "  </thead>\n",
       "  <tbody>\n",
       "    <tr>\n",
       "      <th>0</th>\n",
       "      <td>0.038076</td>\n",
       "      <td>0.050680</td>\n",
       "      <td>0.061696</td>\n",
       "      <td>0.021872</td>\n",
       "      <td>-0.044223</td>\n",
       "      <td>-0.034821</td>\n",
       "      <td>-0.043401</td>\n",
       "      <td>-0.002592</td>\n",
       "      <td>0.019907</td>\n",
       "      <td>-0.017646</td>\n",
       "      <td>151.0</td>\n",
       "    </tr>\n",
       "    <tr>\n",
       "      <th>1</th>\n",
       "      <td>-0.001882</td>\n",
       "      <td>-0.044642</td>\n",
       "      <td>-0.051474</td>\n",
       "      <td>-0.026328</td>\n",
       "      <td>-0.008449</td>\n",
       "      <td>-0.019163</td>\n",
       "      <td>0.074412</td>\n",
       "      <td>-0.039493</td>\n",
       "      <td>-0.068332</td>\n",
       "      <td>-0.092204</td>\n",
       "      <td>75.0</td>\n",
       "    </tr>\n",
       "    <tr>\n",
       "      <th>2</th>\n",
       "      <td>0.085299</td>\n",
       "      <td>0.050680</td>\n",
       "      <td>0.044451</td>\n",
       "      <td>-0.005670</td>\n",
       "      <td>-0.045599</td>\n",
       "      <td>-0.034194</td>\n",
       "      <td>-0.032356</td>\n",
       "      <td>-0.002592</td>\n",
       "      <td>0.002861</td>\n",
       "      <td>-0.025930</td>\n",
       "      <td>141.0</td>\n",
       "    </tr>\n",
       "    <tr>\n",
       "      <th>3</th>\n",
       "      <td>-0.089063</td>\n",
       "      <td>-0.044642</td>\n",
       "      <td>-0.011595</td>\n",
       "      <td>-0.036656</td>\n",
       "      <td>0.012191</td>\n",
       "      <td>0.024991</td>\n",
       "      <td>-0.036038</td>\n",
       "      <td>0.034309</td>\n",
       "      <td>0.022688</td>\n",
       "      <td>-0.009362</td>\n",
       "      <td>206.0</td>\n",
       "    </tr>\n",
       "    <tr>\n",
       "      <th>4</th>\n",
       "      <td>0.005383</td>\n",
       "      <td>-0.044642</td>\n",
       "      <td>-0.036385</td>\n",
       "      <td>0.021872</td>\n",
       "      <td>0.003935</td>\n",
       "      <td>0.015596</td>\n",
       "      <td>0.008142</td>\n",
       "      <td>-0.002592</td>\n",
       "      <td>-0.031988</td>\n",
       "      <td>-0.046641</td>\n",
       "      <td>135.0</td>\n",
       "    </tr>\n",
       "  </tbody>\n",
       "</table>\n",
       "</div>"
      ],
      "text/plain": [
       "        age       sex       bmi        bp        s1        s2        s3  \\\n",
       "0  0.038076  0.050680  0.061696  0.021872 -0.044223 -0.034821 -0.043401   \n",
       "1 -0.001882 -0.044642 -0.051474 -0.026328 -0.008449 -0.019163  0.074412   \n",
       "2  0.085299  0.050680  0.044451 -0.005670 -0.045599 -0.034194 -0.032356   \n",
       "3 -0.089063 -0.044642 -0.011595 -0.036656  0.012191  0.024991 -0.036038   \n",
       "4  0.005383 -0.044642 -0.036385  0.021872  0.003935  0.015596  0.008142   \n",
       "\n",
       "         s4        s5        s6  Target  \n",
       "0 -0.002592  0.019907 -0.017646   151.0  \n",
       "1 -0.039493 -0.068332 -0.092204    75.0  \n",
       "2 -0.002592  0.002861 -0.025930   141.0  \n",
       "3  0.034309  0.022688 -0.009362   206.0  \n",
       "4 -0.002592 -0.031988 -0.046641   135.0  "
      ]
     },
     "execution_count": 17,
     "metadata": {},
     "output_type": "execute_result"
    }
   ],
   "source": [
    "## Create Dataframe\n",
    "data_diabetes=pd.DataFrame(df_diabetes.data,columns=df_diabetes.feature_names)\n",
    "data_diabetes['Target']=df_diabetes.target\n",
    "data_diabetes.head()"
   ]
  },
  {
   "cell_type": "code",
   "execution_count": 21,
   "metadata": {},
   "outputs": [
    {
     "data": {
      "text/plain": [
       "0    151.0\n",
       "1     75.0\n",
       "2    141.0\n",
       "3    206.0\n",
       "4    135.0\n",
       "Name: Target, dtype: float64"
      ]
     },
     "execution_count": 21,
     "metadata": {},
     "output_type": "execute_result"
    }
   ],
   "source": [
    "## Independent and dependent feature\n",
    "X=data_diabetes.iloc[:,:-1]\n",
    "Y=data_diabetes.iloc[:,-1]\n",
    "Y.head()"
   ]
  },
  {
   "cell_type": "code",
   "execution_count": 22,
   "metadata": {},
   "outputs": [],
   "source": [
    "## Train Test Split\n",
    "from sklearn.model_selection import train_test_split\n",
    "X_train,X_test,Y_train,Y_test=train_test_split(X,Y,test_size=0.25,random_state=42)"
   ]
  },
  {
   "cell_type": "code",
   "execution_count": 23,
   "metadata": {},
   "outputs": [],
   "source": [
    "## import ridge and metrics\n",
    "from sklearn.linear_model import Ridge\n",
    "from sklearn.metrics import r2_score"
   ]
  },
  {
   "cell_type": "code",
   "execution_count": 25,
   "metadata": {},
   "outputs": [
    {
     "name": "stdout",
     "output_type": "stream",
     "text": [
      "Coefficients: [array([  47.74968054, -241.99090728,  531.97106288,  381.56286182,\n",
      "       -918.50290455,  508.25778252,  116.95016447,  269.4923028 ,\n",
      "        695.80811712,   26.32458203]), array([ 17.83763181,  -2.01927742,  60.23960272,  45.07216792,\n",
      "        13.96326368,  10.03597889, -38.74742127,  39.88316246,\n",
      "        53.32993877,  34.86553873]), array([ 2.29087373,  0.12180137,  7.03313594,  5.32227911,  2.14334872,\n",
      "        1.71725212, -4.69035801,  5.1042043 ,  6.44026659,  4.39370011]), array([ 0.23565768,  0.01658233,  0.71591231,  0.54244862,  0.22437816,\n",
      "        0.18141026, -0.47938113,  0.52493004,  0.65812541,  0.45096739])]\n",
      "R2 Scores: [0.4849058889476755, 0.1564233282092311, 0.009084996738048523, -0.011622918291190443]\n"
     ]
    }
   ],
   "source": [
    "coef=[]\n",
    "r2_scores=[]\n",
    "\n",
    "for  i in [0,10,100,1000]:\n",
    "    ridge_reg=Ridge(alpha=i)\n",
    "    ridge_reg.fit(X_train,Y_train)\n",
    "\n",
    "    coef.append(ridge_reg.coef_)\n",
    "    y_pred=ridge_reg.predict(X_test)\n",
    "    r2_scores.append(r2_score(Y_test,y_pred))\n",
    "\n",
    "print(\"Coefficients:\",coef)\n",
    "print(\"R2 Scores:\",r2_scores)"
   ]
  },
  {
   "cell_type": "code",
   "execution_count": 27,
   "metadata": {},
   "outputs": [
    {
     "data": {
      "image/png": "[encoded data removed]",
      "text/plain": [
       "<Figure size 1008x648 with 4 Axes>"
      ]
     },
     "metadata": {
      "needs_background": "light"
     },
     "output_type": "display_data"
    }
   ],
   "source": [
    "## Plotting the graphs\n",
    "plt.figure(figsize=(14,9))\n",
    "plt.subplot(221)\n",
    "plt.bar(df_diabetes.feature_names,coef[0])\n",
    "plt.title('Alpha = 0 ,r2_score = {}'.format(round(r2_scores[0],2)))\n",
    "\n",
    "plt.subplot(222)\n",
    "plt.bar(df_diabetes.feature_names,coef[1])\n",
    "plt.title('Alpha = 10 ,r2_score = {}'.format(round(r2_scores[1],2)))\n",
    "\n",
    "plt.subplot(223)\n",
    "plt.bar(df_diabetes.feature_names,coef[2])\n",
    "plt.title('Alpha = 100 ,r2_score = {}'.format(round(r2_scores[2],2)))\n",
    "\n",
    "plt.subplot(224)\n",
    "plt.bar(df_diabetes.feature_names,coef[3])\n",
    "plt.title('Alpha = 1000 ,r2_score = {}'.format(round(r2_scores[3],2)))\n",
    "\n",
    "plt.show()\n"
   ]
  },
  {
   "cell_type": "markdown",
   "metadata": {},
   "source": [
    "As the alpha is increasing coefficients are decreasing drastically.\n",
    "But if feature- sex is observed then it is coming near to 0 but with subsequest alpha increase it is not becoming 0."
   ]
  },
  {
   "cell_type": "markdown",
   "metadata": {},
   "source": [
    "2. Higher values are impacted more\n",
    "The variables which are contributing the most in Y calculation have high coefficients value, so when we increase lambda value then these high value coeeficients will decrease the most"
   ]
  },
  {
   "cell_type": "code",
   "execution_count": 39,
   "metadata": {},
   "outputs": [],
   "source": [
    "alphas = [0,0.0001,0.001,0.01,0.1,1,10,100,1000,10000]\n",
    "\n",
    "coefs = []\n",
    "\n",
    "for i in alphas:\n",
    "    reg = Ridge(alpha=i)\n",
    "    reg.fit(X_train,Y_train)\n",
    "    \n",
    "    coefs.append(reg.coef_.tolist())"
   ]
  },
  {
   "cell_type": "code",
   "execution_count": 40,
   "metadata": {},
   "outputs": [],
   "source": [
    "coef_arr=np.array(coefs)"
   ]
  },
  {
   "cell_type": "code",
   "execution_count": 42,
   "metadata": {},
   "outputs": [
    {
     "data": {
      "text/html": [
       "<div>\n",
       "<style scoped>\n",
       "    .dataframe tbody tr th:only-of-type {\n",
       "        vertical-align: middle;\n",
       "    }\n",
       "\n",
       "    .dataframe tbody tr th {\n",
       "        vertical-align: top;\n",
       "    }\n",
       "\n",
       "    .dataframe thead th {\n",
       "        text-align: right;\n",
       "    }\n",
       "</style>\n",
       "<table border=\"1\" class=\"dataframe\">\n",
       "  <thead>\n",
       "    <tr style=\"text-align: right;\">\n",
       "      <th></th>\n",
       "      <th>age</th>\n",
       "      <th>sex</th>\n",
       "      <th>bmi</th>\n",
       "      <th>bp</th>\n",
       "      <th>s1</th>\n",
       "      <th>s2</th>\n",
       "      <th>s3</th>\n",
       "      <th>s4</th>\n",
       "      <th>s5</th>\n",
       "      <th>s6</th>\n",
       "    </tr>\n",
       "    <tr>\n",
       "      <th>alpha</th>\n",
       "      <th></th>\n",
       "      <th></th>\n",
       "      <th></th>\n",
       "      <th></th>\n",
       "      <th></th>\n",
       "      <th></th>\n",
       "      <th></th>\n",
       "      <th></th>\n",
       "      <th></th>\n",
       "      <th></th>\n",
       "    </tr>\n",
       "  </thead>\n",
       "  <tbody>\n",
       "    <tr>\n",
       "      <th>0.0000</th>\n",
       "      <td>47.749681</td>\n",
       "      <td>-241.990907</td>\n",
       "      <td>531.971063</td>\n",
       "      <td>381.562862</td>\n",
       "      <td>-918.502905</td>\n",
       "      <td>508.257783</td>\n",
       "      <td>116.950164</td>\n",
       "      <td>269.492303</td>\n",
       "      <td>695.808117</td>\n",
       "      <td>26.324582</td>\n",
       "    </tr>\n",
       "    <tr>\n",
       "      <th>0.0001</th>\n",
       "      <td>47.820710</td>\n",
       "      <td>-241.915766</td>\n",
       "      <td>532.149458</td>\n",
       "      <td>381.436282</td>\n",
       "      <td>-906.903126</td>\n",
       "      <td>499.204878</td>\n",
       "      <td>111.782965</td>\n",
       "      <td>267.865031</td>\n",
       "      <td>691.352713</td>\n",
       "      <td>26.452445</td>\n",
       "    </tr>\n",
       "    <tr>\n",
       "      <th>0.0010</th>\n",
       "      <td>48.381664</td>\n",
       "      <td>-241.272301</td>\n",
       "      <td>533.490847</td>\n",
       "      <td>380.390465</td>\n",
       "      <td>-815.288463</td>\n",
       "      <td>427.754704</td>\n",
       "      <td>71.002884</td>\n",
       "      <td>255.003655</td>\n",
       "      <td>656.134684</td>\n",
       "      <td>27.504959</td>\n",
       "    </tr>\n",
       "    <tr>\n",
       "      <th>0.0100</th>\n",
       "      <td>50.760628</td>\n",
       "      <td>-236.231352</td>\n",
       "      <td>536.041371</td>\n",
       "      <td>373.825241</td>\n",
       "      <td>-426.935340</td>\n",
       "      <td>127.149873</td>\n",
       "      <td>-100.431910</td>\n",
       "      <td>200.100975</td>\n",
       "      <td>505.469879</td>\n",
       "      <td>33.912978</td>\n",
       "    </tr>\n",
       "    <tr>\n",
       "      <th>0.1000</th>\n",
       "      <td>52.866087</td>\n",
       "      <td>-200.508670</td>\n",
       "      <td>493.959172</td>\n",
       "      <td>339.279834</td>\n",
       "      <td>-118.063006</td>\n",
       "      <td>-80.910795</td>\n",
       "      <td>-215.280522</td>\n",
       "      <td>153.414567</td>\n",
       "      <td>365.682045</td>\n",
       "      <td>62.422629</td>\n",
       "    </tr>\n",
       "    <tr>\n",
       "      <th>1.0000</th>\n",
       "      <td>50.552012</td>\n",
       "      <td>-67.722224</td>\n",
       "      <td>278.301228</td>\n",
       "      <td>197.622638</td>\n",
       "      <td>-6.245836</td>\n",
       "      <td>-26.226726</td>\n",
       "      <td>-151.394331</td>\n",
       "      <td>120.323359</td>\n",
       "      <td>215.854463</td>\n",
       "      <td>101.755774</td>\n",
       "    </tr>\n",
       "    <tr>\n",
       "      <th>10.0000</th>\n",
       "      <td>17.837632</td>\n",
       "      <td>-2.019277</td>\n",
       "      <td>60.239603</td>\n",
       "      <td>45.072168</td>\n",
       "      <td>13.963264</td>\n",
       "      <td>10.035979</td>\n",
       "      <td>-38.747421</td>\n",
       "      <td>39.883162</td>\n",
       "      <td>53.329939</td>\n",
       "      <td>34.865539</td>\n",
       "    </tr>\n",
       "    <tr>\n",
       "      <th>100.0000</th>\n",
       "      <td>2.290874</td>\n",
       "      <td>0.121801</td>\n",
       "      <td>7.033136</td>\n",
       "      <td>5.322279</td>\n",
       "      <td>2.143349</td>\n",
       "      <td>1.717252</td>\n",
       "      <td>-4.690358</td>\n",
       "      <td>5.104204</td>\n",
       "      <td>6.440267</td>\n",
       "      <td>4.393700</td>\n",
       "    </tr>\n",
       "    <tr>\n",
       "      <th>1000.0000</th>\n",
       "      <td>0.235658</td>\n",
       "      <td>0.016582</td>\n",
       "      <td>0.715912</td>\n",
       "      <td>0.542449</td>\n",
       "      <td>0.224378</td>\n",
       "      <td>0.181410</td>\n",
       "      <td>-0.479381</td>\n",
       "      <td>0.524930</td>\n",
       "      <td>0.658125</td>\n",
       "      <td>0.450967</td>\n",
       "    </tr>\n",
       "    <tr>\n",
       "      <th>10000.0000</th>\n",
       "      <td>0.023633</td>\n",
       "      <td>0.001704</td>\n",
       "      <td>0.071720</td>\n",
       "      <td>0.054350</td>\n",
       "      <td>0.022542</td>\n",
       "      <td>0.018241</td>\n",
       "      <td>-0.048044</td>\n",
       "      <td>0.052642</td>\n",
       "      <td>0.065957</td>\n",
       "      <td>0.045216</td>\n",
       "    </tr>\n",
       "  </tbody>\n",
       "</table>\n",
       "</div>"
      ],
      "text/plain": [
       "                  age         sex         bmi          bp          s1  \\\n",
       "alpha                                                                   \n",
       "0.0000      47.749681 -241.990907  531.971063  381.562862 -918.502905   \n",
       "0.0001      47.820710 -241.915766  532.149458  381.436282 -906.903126   \n",
       "0.0010      48.381664 -241.272301  533.490847  380.390465 -815.288463   \n",
       "0.0100      50.760628 -236.231352  536.041371  373.825241 -426.935340   \n",
       "0.1000      52.866087 -200.508670  493.959172  339.279834 -118.063006   \n",
       "1.0000      50.552012  -67.722224  278.301228  197.622638   -6.245836   \n",
       "10.0000     17.837632   -2.019277   60.239603   45.072168   13.963264   \n",
       "100.0000     2.290874    0.121801    7.033136    5.322279    2.143349   \n",
       "1000.0000    0.235658    0.016582    0.715912    0.542449    0.224378   \n",
       "10000.0000   0.023633    0.001704    0.071720    0.054350    0.022542   \n",
       "\n",
       "                    s2          s3          s4          s5          s6  \n",
       "alpha                                                                   \n",
       "0.0000      508.257783  116.950164  269.492303  695.808117   26.324582  \n",
       "0.0001      499.204878  111.782965  267.865031  691.352713   26.452445  \n",
       "0.0010      427.754704   71.002884  255.003655  656.134684   27.504959  \n",
       "0.0100      127.149873 -100.431910  200.100975  505.469879   33.912978  \n",
       "0.1000      -80.910795 -215.280522  153.414567  365.682045   62.422629  \n",
       "1.0000      -26.226726 -151.394331  120.323359  215.854463  101.755774  \n",
       "10.0000      10.035979  -38.747421   39.883162   53.329939   34.865539  \n",
       "100.0000      1.717252   -4.690358    5.104204    6.440267    4.393700  \n",
       "1000.0000     0.181410   -0.479381    0.524930    0.658125    0.450967  \n",
       "10000.0000    0.018241   -0.048044    0.052642    0.065957    0.045216  "
      ]
     },
     "execution_count": 42,
     "metadata": {},
     "output_type": "execute_result"
    }
   ],
   "source": [
    "coef_df=pd.DataFrame(coef_arr,columns=df_diabetes.feature_names)\n",
    "coef_df['alpha']=alphas\n",
    "coef_df.set_index('alpha')"
   ]
  },
  {
   "cell_type": "markdown",
   "metadata": {},
   "source": [
    "The variables with highest coefficent values are decreasing with huge amount"
   ]
  },
  {
   "cell_type": "markdown",
   "metadata": {},
   "source": [
    "3. Bias Variance Tradeoff\n",
    "\n",
    " In overfitting situation if we keep lambda value very low then as this is overfitting scenario with low lambda its bias will be very low but the variance would be very high.\n",
    " When will increase lambda value then bias will start increasing but variance will decrease and if we increase lambda too much then both bias and variance will be high..\n",
    " so have to find such a middle value for lambda where bias and variance both should be less."
   ]
  },
  {
   "cell_type": "code",
   "execution_count": 46,
   "metadata": {},
   "outputs": [
    {
     "data": {
      "image/png": "[encoded data removed]",
      "text/plain": [
       "<Figure size 432x288 with 1 Axes>"
      ]
     },
     "metadata": {
      "needs_background": "light"
     },
     "output_type": "display_data"
    }
   ],
   "source": [
    "## Generate data\n",
    "m = 100\n",
    "X = 5 * np.random.rand(m, 1) - 2\n",
    "y = 0.7 * X ** 2 - 2 * X + 3 + np.random.randn(m, 1)\n",
    "\n",
    "plt.scatter(X, y)\n",
    "plt.show()"
   ]
  },
  {
   "cell_type": "code",
   "execution_count": 47,
   "metadata": {},
   "outputs": [],
   "source": [
    "## Train Test Split\n",
    "X_train,X_test,y_train,y_test = train_test_split(X.reshape(100,1),y.reshape(100),test_size=0.2,random_state=2)"
   ]
  },
  {
   "cell_type": "code",
   "execution_count": 48,
   "metadata": {},
   "outputs": [],
   "source": [
    "## Polynomial with degree 15 and scaling\n",
    "from sklearn.preprocessing import PolynomialFeatures\n",
    "poly = PolynomialFeatures(degree=15)\n",
    "\n",
    "X_train = poly.fit_transform(X_train)\n",
    "X_test = poly.transform(X_test)"
   ]
  },
  {
   "cell_type": "code",
   "execution_count": null,
   "metadata": {},
   "outputs": [
    {
     "name": "stdout",
     "output_type": "stream",
     "text": [
      "Collecting mlxtend\n",
      "  Downloading mlxtend-0.23.0-py3-none-any.whl (1.4 MB)\n",
      "Requirement already satisfied: joblib>=0.13.2 in d:\\anaconda\\lib\\site-packages (from mlxtend) (1.2.0)\n",
      "Requirement already satisfied: pandas>=0.24.2 in d:\\anaconda\\lib\\site-packages (from mlxtend) (1.1.3)\n",
      "Requirement already satisfied: numpy>=1.16.2 in d:\\anaconda\\lib\\site-packages (from mlxtend) (1.24.3)\n",
      "Requirement already satisfied: scikit-learn>=1.0.2 in d:\\anaconda\\lib\\site-packages (from mlxtend) (1.1.3)\n",
      "Requirement already satisfied: matplotlib>=3.0.0 in d:\\anaconda\\lib\\site-packages (from mlxtend) (3.3.2)\n",
      "Requirement already satisfied: scipy>=1.2.1 in d:\\anaconda\\lib\\site-packages (from mlxtend) (1.10.1)\n",
      "Requirement already satisfied: pytz>=2017.2 in d:\\anaconda\\lib\\site-packages (from pandas>=0.24.2->mlxtend) (2020.1)\n",
      "Requirement already satisfied: python-dateutil>=2.7.3 in d:\\anaconda\\lib\\site-packages (from pandas>=0.24.2->mlxtend) (2.8.1)\n",
      "Requirement already satisfied: threadpoolctl>=2.0.0 in d:\\anaconda\\lib\\site-packages (from scikit-learn>=1.0.2->mlxtend) (2.1.0)\n",
      "Requirement already satisfied: pyparsing!=2.0.4,!=2.1.2,!=2.1.6,>=2.0.3 in d:\\anaconda\\lib\\site-packages (from matplotlib>=3.0.0->mlxtend) (2.4.7)\n",
      "Requirement already satisfied: pillow>=6.2.0 in d:\\anaconda\\lib\\site-packages (from matplotlib>=3.0.0->mlxtend) (8.0.1)\n",
      "Requirement already satisfied: cycler>=0.10 in d:\\anaconda\\lib\\site-packages (from matplotlib>=3.0.0->mlxtend) (0.10.0)\n",
      "Requirement already satisfied: certifi>=2020.06.20 in d:\\anaconda\\lib\\site-packages (from matplotlib>=3.0.0->mlxtend) (2020.6.20)\n",
      "Requirement already satisfied: kiwisolver>=1.0.1 in d:\\anaconda\\lib\\site-packages (from matplotlib>=3.0.0->mlxtend) (1.3.0)\n",
      "Requirement already satisfied: six>=1.5 in d:\\anaconda\\lib\\site-packages (from python-dateutil>=2.7.3->pandas>=0.24.2->mlxtend) (1.15.0)\n",
      "Installing collected packages: mlxtend\n",
      "Successfully installed mlxtend-0.23.0\n"
     ]
    }
   ],
   "source": [
    "!pip install mlxtend"
   ]
  },
  {
   "cell_type": "code",
   "execution_count": 53,
   "metadata": {},
   "outputs": [],
   "source": [
    "## mlxtend.evaluate have bias_variance_decomp function which calculates bias and variance for alpha values\n",
    "from mlxtend.evaluate import bias_variance_decomp\n",
    "\n",
    "## Generating 100 alpha values between 0 and 20\n",
    "alphas = np.linspace(0,30,100)\n",
    "\n",
    "loss = []\n",
    "bias = []\n",
    "variance = []\n",
    "\n",
    "## For each alpha get bias,variance and loss and append them in list\n",
    "for i in alphas:\n",
    "    reg = Ridge(alpha=i)\n",
    "    avg_expected_loss, avg_bias, avg_var = bias_variance_decomp(\n",
    "        reg, X_train, y_train, X_test, y_test, \n",
    "        loss='mse',\n",
    "        random_seed=123)\n",
    "    loss.append(avg_expected_loss)\n",
    "    bias.append(avg_bias)\n",
    "    variance.append(avg_var)"
   ]
  },
  {
   "cell_type": "code",
   "execution_count": 57,
   "metadata": {},
   "outputs": [
    {
     "data": {
      "text/html": [
       "<div>\n",
       "<style scoped>\n",
       "    .dataframe tbody tr th:only-of-type {\n",
       "        vertical-align: middle;\n",
       "    }\n",
       "\n",
       "    .dataframe tbody tr th {\n",
       "        vertical-align: top;\n",
       "    }\n",
       "\n",
       "    .dataframe thead th {\n",
       "        text-align: right;\n",
       "    }\n",
       "</style>\n",
       "<table border=\"1\" class=\"dataframe\">\n",
       "  <thead>\n",
       "    <tr style=\"text-align: right;\">\n",
       "      <th></th>\n",
       "      <th>0</th>\n",
       "    </tr>\n",
       "    <tr>\n",
       "      <th>alpha</th>\n",
       "      <th></th>\n",
       "    </tr>\n",
       "  </thead>\n",
       "  <tbody>\n",
       "    <tr>\n",
       "      <th>0.000000</th>\n",
       "      <td>1.100759</td>\n",
       "    </tr>\n",
       "    <tr>\n",
       "      <th>0.303030</th>\n",
       "      <td>0.601513</td>\n",
       "    </tr>\n",
       "    <tr>\n",
       "      <th>0.606061</th>\n",
       "      <td>0.603074</td>\n",
       "    </tr>\n",
       "    <tr>\n",
       "      <th>0.909091</th>\n",
       "      <td>0.609249</td>\n",
       "    </tr>\n",
       "    <tr>\n",
       "      <th>1.212121</th>\n",
       "      <td>0.615878</td>\n",
       "    </tr>\n",
       "    <tr>\n",
       "      <th>...</th>\n",
       "      <td>...</td>\n",
       "    </tr>\n",
       "    <tr>\n",
       "      <th>28.787879</th>\n",
       "      <td>0.716920</td>\n",
       "    </tr>\n",
       "    <tr>\n",
       "      <th>29.090909</th>\n",
       "      <td>0.717593</td>\n",
       "    </tr>\n",
       "    <tr>\n",
       "      <th>29.393939</th>\n",
       "      <td>0.718264</td>\n",
       "    </tr>\n",
       "    <tr>\n",
       "      <th>29.696970</th>\n",
       "      <td>0.718933</td>\n",
       "    </tr>\n",
       "    <tr>\n",
       "      <th>30.000000</th>\n",
       "      <td>0.719600</td>\n",
       "    </tr>\n",
       "  </tbody>\n",
       "</table>\n",
       "<p>100 rows × 1 columns</p>\n",
       "</div>"
      ],
      "text/plain": [
       "                  0\n",
       "alpha              \n",
       "0.000000   1.100759\n",
       "0.303030   0.601513\n",
       "0.606061   0.603074\n",
       "0.909091   0.609249\n",
       "1.212121   0.615878\n",
       "...             ...\n",
       "28.787879  0.716920\n",
       "29.090909  0.717593\n",
       "29.393939  0.718264\n",
       "29.696970  0.718933\n",
       "30.000000  0.719600\n",
       "\n",
       "[100 rows x 1 columns]"
      ]
     },
     "execution_count": 57,
     "metadata": {},
     "output_type": "execute_result"
    }
   ],
   "source": [
    "bias_df=pd.DataFrame(bias)\n",
    "bias_df['alpha']=alphas\n",
    "bias_df.set_index('alpha')"
   ]
  },
  {
   "cell_type": "code",
   "execution_count": null,
   "metadata": {},
   "outputs": [],
   "source": [
    "4. Impact of lambda on loss function"
   ]
  },
  {
   "cell_type": "code",
   "execution_count": 59,
   "metadata": {},
   "outputs": [
    {
     "data": {
      "text/plain": [
       "<matplotlib.collections.PathCollection at 0x1efee5e2610>"
      ]
     },
     "execution_count": 59,
     "metadata": {},
     "output_type": "execute_result"
    },
    {
     "data": {
      "image/png": "[encoded data removed]",
      "text/plain": [
       "<Figure size 432x288 with 1 Axes>"
      ]
     },
     "metadata": {
      "needs_background": "light"
     },
     "output_type": "display_data"
    }
   ],
   "source": [
    "## Create Dataset\n",
    "from sklearn.datasets import make_regression\n",
    "\n",
    "X,y = make_regression(n_samples=100, n_features=1, n_informative=1, n_targets=1,noise=20,random_state=13)\n",
    "\n",
    "plt.scatter(X,y)"
   ]
  },
  {
   "cell_type": "code",
   "execution_count": 63,
   "metadata": {},
   "outputs": [],
   "source": [
    "## Train Test Split\n",
    "from sklearn.model_selection import train_test_split\n",
    "X_train,X_test,Y_train,Y_test=train_test_split(X,y,test_size=0.25,random_state=42)"
   ]
  },
  {
   "cell_type": "code",
   "execution_count": 64,
   "metadata": {},
   "outputs": [
    {
     "name": "stdout",
     "output_type": "stream",
     "text": [
      "[28.06428544]\n",
      "-2.4682487786594804\n"
     ]
    }
   ],
   "source": [
    "## Apply simple linear regression\n",
    "\n",
    "from sklearn.linear_model import LinearRegression\n",
    "\n",
    "reg = LinearRegression()\n",
    "reg.fit(X_train,Y_train)\n",
    "print(reg.coef_)\n",
    "print(reg.intercept_)"
   ]
  },
  {
   "cell_type": "code",
   "execution_count": 67,
   "metadata": {},
   "outputs": [],
   "source": [
    "## Calculate loss and prediction    \n",
    "def cal_loss(m,alpha):\n",
    "    return np.sum((y - m*X.ravel() + 2.46)**2) + alpha*m*m"
   ]
  },
  {
   "cell_type": "code",
   "execution_count": 69,
   "metadata": {},
   "outputs": [
    {
     "data": {
      "image/png": "[encoded data removed]",
      "text/plain": [
       "<Figure size 288x432 with 1 Axes>"
      ]
     },
     "metadata": {
      "needs_background": "light"
     },
     "output_type": "display_data"
    }
   ],
   "source": [
    "## import mean squared error and calculate loss for ridge\n",
    "m = np.linspace(-45,100,100)\n",
    "plt.figure(figsize=(4,6))\n",
    "for j in [0,10,20,30,40,50,100]:\n",
    "    loss = []\n",
    "    for i in range(m.shape[0]):\n",
    "        loss_i = cal_loss(m[i],j)\n",
    "        loss.append(loss_i)\n",
    "    plt.plot(m,loss,label='alpha = {}'.format(j))\n",
    "plt.legend()\n",
    "plt.xlabel('m')\n",
    "plt.ylabel('Loss')\n",
    "plt.show()"
   ]
  },
  {
   "cell_type": "markdown",
   "metadata": {},
   "source": [
    "As alpha is increasing loss is also increasing...with simple linear regression we got m near to 28 and intercept near to 2.27\n",
    "when alpha is increasing global minima is shifting towards 0 on x-axis i.e. m is decreasing and loss is increasing with alpha..i.e. global minima is shifting upwards and leftwords i.e. loss is increasing and m is decreasing"
   ]
  },
  {
   "cell_type": "code",
   "execution_count": null,
   "metadata": {},
   "outputs": [],
   "source": []
  },
  {
   "cell_type": "code",
   "execution_count": null,
   "metadata": {},
   "outputs": [],
   "source": []
  }
 ],
 "metadata": {
  "kernelspec": {
   "display_name": "Python 3.8.5 ('base')",
   "language": "python",
   "name": "python3"
  },
  "language_info": {
   "codemirror_mode": {
    "name": "ipython",
    "version": 3
   },
   "file_extension": ".py",
   "mimetype": "text/x-python",
   "name": "python",
   "nbconvert_exporter": "python",
   "pygments_lexer": "ipython3",
   "version": "3.8.5"
  },
  "orig_nbformat": 4,
  "vscode": {
   "interpreter": {
    "hash": "88279d2366fe020547cde40dd65aa0e3aa662a6ec1f3ca12d88834876c85e1a6"
   }
  }
 },
 "nbformat": 4,
 "nbformat_minor": 2
}
