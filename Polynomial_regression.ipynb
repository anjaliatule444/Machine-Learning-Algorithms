{
 "cells": [
  {
   "cell_type": "code",
   "execution_count": 1,
   "metadata": {},
   "outputs": [],
   "source": [
    "## Import libraries\n",
    "import pandas as pd\n",
    "import numpy as np\n",
    "import matplotlib.pyplot as plt\n",
    "%matplotlib inline"
   ]
  },
  {
   "cell_type": "code",
   "execution_count": 2,
   "metadata": {},
   "outputs": [
    {
     "data": {
      "text/plain": [
       "Text(0, 0.5, 'Y')"
      ]
     },
     "execution_count": 2,
     "metadata": {},
     "output_type": "execute_result"
    },
    {
     "data": {
      "image/png": "[encoded data removed]",
      "text/plain": [
       "<Figure size 432x288 with 1 Axes>"
      ]
     },
     "metadata": {
      "needs_background": "light"
     },
     "output_type": "display_data"
    }
   ],
   "source": [
    "## Generate non linear Dataset\n",
    "X=6* np.random.rand(100,1)-3\n",
    "Y=0.5*(X**2)+1.5*X+2+np.random.randn(100,1)\n",
    "plt.scatter(X,Y)\n",
    "plt.xlabel(\"X\")\n",
    "plt.ylabel(\"Y\")"
   ]
  },
  {
   "cell_type": "code",
   "execution_count": 3,
   "metadata": {},
   "outputs": [],
   "source": [
    "## Train Test Split\n",
    "from sklearn.model_selection import train_test_split\n",
    "X_train,X_test,Y_train,Y_test=train_test_split(X,Y,test_size=0.2,random_state=42)"
   ]
  },
  {
   "cell_type": "code",
   "execution_count": 4,
   "metadata": {},
   "outputs": [
    {
     "name": "stdout",
     "output_type": "stream",
     "text": [
      "Coefficient= [[1.48197906]]\n",
      "Intercept= [3.46481399]\n",
      "Mean Absolute Error= 1.2591116966983282\n",
      "Mean Squared Error= 2.8024128986503394\n",
      "Root Mean Squared Error= 1.6740408891811274\n",
      "R2 score= 0.8000204094562218\n"
     ]
    }
   ],
   "source": [
    "## Simple Linear Regression\n",
    "from sklearn.linear_model import LinearRegression\n",
    "from sklearn.metrics import mean_absolute_error,mean_squared_error,r2_score\n",
    "\n",
    "Linear_reg=LinearRegression()\n",
    "Linear_reg.fit(X_train,Y_train)\n",
    "Y_pred=Linear_reg.predict(X_test)\n",
    "\n",
    "print(\"Coefficient=\",Linear_reg.coef_)\n",
    "print(\"Intercept=\",Linear_reg.intercept_)\n",
    "\n",
    "mae=mean_absolute_error(Y_test,Y_pred)\n",
    "mse=mean_squared_error(Y_test,Y_pred)\n",
    "rmse=np.sqrt(mse)\n",
    "print(\"Mean Absolute Error=\",mae)\n",
    "print(\"Mean Squared Error=\",mse)\n",
    "print(\"Root Mean Squared Error=\",rmse)\n",
    "print(\"R2 score=\",r2_score(Y_test,Y_pred))"
   ]
  },
  {
   "cell_type": "markdown",
   "metadata": {},
   "source": [
    "As the data is having non linear relationship fitting a straight line is not giving that much accuracy"
   ]
  },
  {
   "cell_type": "code",
   "execution_count": 5,
   "metadata": {},
   "outputs": [
    {
     "data": {
      "text/plain": [
       "[<matplotlib.lines.Line2D at 0x1f81b79d730>]"
      ]
     },
     "execution_count": 5,
     "metadata": {},
     "output_type": "execute_result"
    },
    {
     "data": {
      "image/png": "[encoded data removed]",
      "text/plain": [
       "<Figure size 432x288 with 1 Axes>"
      ]
     },
     "metadata": {
      "needs_background": "light"
     },
     "output_type": "display_data"
    }
   ],
   "source": [
    "plt.scatter(X,Y,color='g')\n",
    "plt.plot(X_test,Y_pred,'r')"
   ]
  },
  {
   "cell_type": "markdown",
   "metadata": {},
   "source": [
    "This is how linear regression looks like for simple linear regression which is same as polynomial regression with degree 1."
   ]
  },
  {
   "cell_type": "code",
   "execution_count": 6,
   "metadata": {},
   "outputs": [],
   "source": [
    "## Polynomial regression\n",
    "from sklearn.preprocessing import PolynomialFeatures\n",
    "poly=PolynomialFeatures(degree=2,include_bias=True)\n",
    "X_train_poly=poly.fit_transform(X_train)\n",
    "X_test_poly=poly.transform(X_test)"
   ]
  },
  {
   "cell_type": "markdown",
   "metadata": {},
   "source": [
    "Polynomial Regression with degree 2 equation is --> h(x)=Beta_0 * (1) +Beta_1*X1 + Beta_2* X1**2"
   ]
  },
  {
   "cell_type": "markdown",
   "metadata": {},
   "source": [
    "By doing include_bias=True we are considering 1 that is being multiplied with Beta_0 in calculation"
   ]
  },
  {
   "cell_type": "code",
   "execution_count": 7,
   "metadata": {},
   "outputs": [
    {
     "data": {
      "text/plain": [
       "array([[ 1.00000000e+00,  1.28000019e+00,  1.63840049e+00],\n",
       "       [ 1.00000000e+00, -6.96647103e-01,  4.85317187e-01],\n",
       "       [ 1.00000000e+00, -1.16402919e+00,  1.35496394e+00],\n",
       "       [ 1.00000000e+00,  2.53799648e+00,  6.44142612e+00],\n",
       "       [ 1.00000000e+00,  5.10441934e-01,  2.60550968e-01],\n",
       "       [ 1.00000000e+00, -1.23827156e+00,  1.53331646e+00],\n",
       "       [ 1.00000000e+00,  1.42812793e+00,  2.03954939e+00],\n",
       "       [ 1.00000000e+00,  1.88139569e+00,  3.53964976e+00],\n",
       "       [ 1.00000000e+00,  1.94264291e+00,  3.77386146e+00],\n",
       "       [ 1.00000000e+00, -1.37643612e+00,  1.89457640e+00],\n",
       "       [ 1.00000000e+00,  8.73547944e-01,  7.63086011e-01],\n",
       "       [ 1.00000000e+00,  2.09607122e+00,  4.39351454e+00],\n",
       "       [ 1.00000000e+00, -8.68685952e-01,  7.54615283e-01],\n",
       "       [ 1.00000000e+00,  1.46300565e+00,  2.14038552e+00],\n",
       "       [ 1.00000000e+00, -2.41161204e+00,  5.81587261e+00],\n",
       "       [ 1.00000000e+00, -2.92578534e+00,  8.56021984e+00],\n",
       "       [ 1.00000000e+00,  1.26997954e+00,  1.61284802e+00],\n",
       "       [ 1.00000000e+00, -2.28370106e+00,  5.21529052e+00],\n",
       "       [ 1.00000000e+00,  2.39356920e+00,  5.72917352e+00],\n",
       "       [ 1.00000000e+00,  1.07491583e+00,  1.15544405e+00],\n",
       "       [ 1.00000000e+00,  1.10695300e+00,  1.22534495e+00],\n",
       "       [ 1.00000000e+00,  2.68063423e+00,  7.18579990e+00],\n",
       "       [ 1.00000000e+00, -1.69281764e+00,  2.86563155e+00],\n",
       "       [ 1.00000000e+00, -1.78005011e+00,  3.16857838e+00],\n",
       "       [ 1.00000000e+00, -1.67460557e+00,  2.80430380e+00],\n",
       "       [ 1.00000000e+00,  2.92863103e+00,  8.57687972e+00],\n",
       "       [ 1.00000000e+00, -1.56147924e+00,  2.43821743e+00],\n",
       "       [ 1.00000000e+00, -2.45200363e+00,  6.01232181e+00],\n",
       "       [ 1.00000000e+00, -1.69244382e-01,  2.86436607e-02],\n",
       "       [ 1.00000000e+00, -1.15644237e+00,  1.33735897e+00],\n",
       "       [ 1.00000000e+00, -1.36093856e+00,  1.85215377e+00],\n",
       "       [ 1.00000000e+00,  2.42539743e+00,  5.88255269e+00],\n",
       "       [ 1.00000000e+00,  9.43986971e-01,  8.91111402e-01],\n",
       "       [ 1.00000000e+00, -5.09130705e-01,  2.59214075e-01],\n",
       "       [ 1.00000000e+00, -8.75347486e-01,  7.66233221e-01],\n",
       "       [ 1.00000000e+00, -5.41514045e-01,  2.93237461e-01],\n",
       "       [ 1.00000000e+00,  8.91690362e-01,  7.95111702e-01],\n",
       "       [ 1.00000000e+00,  8.88858260e-03,  7.90069006e-05],\n",
       "       [ 1.00000000e+00, -2.91025527e+00,  8.46958575e+00],\n",
       "       [ 1.00000000e+00,  1.70239921e+00,  2.89816308e+00],\n",
       "       [ 1.00000000e+00,  2.24066388e+00,  5.02057464e+00],\n",
       "       [ 1.00000000e+00, -2.21685426e+00,  4.91444279e+00],\n",
       "       [ 1.00000000e+00, -1.25500855e+00,  1.57504646e+00],\n",
       "       [ 1.00000000e+00, -1.34912017e+00,  1.82012523e+00],\n",
       "       [ 1.00000000e+00,  2.10356093e+00,  4.42496859e+00],\n",
       "       [ 1.00000000e+00,  3.83256590e-01,  1.46885613e-01],\n",
       "       [ 1.00000000e+00,  1.13615192e+00,  1.29084118e+00],\n",
       "       [ 1.00000000e+00,  1.09947596e+00,  1.20884739e+00],\n",
       "       [ 1.00000000e+00, -1.06399366e+00,  1.13208251e+00],\n",
       "       [ 1.00000000e+00, -1.98122431e+00,  3.92524976e+00],\n",
       "       [ 1.00000000e+00, -2.38041656e+00,  5.66638299e+00],\n",
       "       [ 1.00000000e+00,  5.87604976e-01,  3.45279608e-01],\n",
       "       [ 1.00000000e+00,  3.07916589e-01,  9.48126260e-02],\n",
       "       [ 1.00000000e+00, -2.76814748e+00,  7.66264047e+00],\n",
       "       [ 1.00000000e+00, -1.85838448e+00,  3.45359287e+00],\n",
       "       [ 1.00000000e+00, -2.01557362e+00,  4.06253701e+00],\n",
       "       [ 1.00000000e+00,  2.67605692e-01,  7.16128064e-02],\n",
       "       [ 1.00000000e+00, -2.49795135e+00,  6.23976096e+00],\n",
       "       [ 1.00000000e+00,  2.45678530e+00,  6.03579402e+00],\n",
       "       [ 1.00000000e+00,  1.95155990e-01,  3.80858603e-02],\n",
       "       [ 1.00000000e+00,  3.30592193e-02,  1.09291198e-03],\n",
       "       [ 1.00000000e+00,  3.19936987e-01,  1.02359676e-01],\n",
       "       [ 1.00000000e+00,  1.15754754e+00,  1.33991631e+00],\n",
       "       [ 1.00000000e+00, -8.94491900e-01,  8.00115759e-01],\n",
       "       [ 1.00000000e+00,  9.37614687e-01,  8.79121302e-01],\n",
       "       [ 1.00000000e+00,  1.83586485e+00,  3.37039976e+00],\n",
       "       [ 1.00000000e+00,  2.04580242e+00,  4.18530754e+00],\n",
       "       [ 1.00000000e+00, -2.44438022e-01,  5.97499467e-02],\n",
       "       [ 1.00000000e+00, -3.83411022e-01,  1.47004012e-01],\n",
       "       [ 1.00000000e+00, -2.88898785e+00,  8.34625080e+00],\n",
       "       [ 1.00000000e+00,  2.02696494e+00,  4.10858688e+00],\n",
       "       [ 1.00000000e+00,  1.01023977e+00,  1.02058440e+00],\n",
       "       [ 1.00000000e+00, -5.78615231e-01,  3.34795585e-01],\n",
       "       [ 1.00000000e+00,  2.80782460e+00,  7.88387896e+00],\n",
       "       [ 1.00000000e+00,  1.13599564e-01,  1.29048609e-02],\n",
       "       [ 1.00000000e+00,  1.31076730e+00,  1.71811091e+00],\n",
       "       [ 1.00000000e+00, -2.30432140e+00,  5.30989711e+00],\n",
       "       [ 1.00000000e+00,  2.75865662e+00,  7.61018637e+00],\n",
       "       [ 1.00000000e+00, -1.42161339e+00,  2.02098463e+00],\n",
       "       [ 1.00000000e+00, -1.73825060e+00,  3.02151514e+00]])"
      ]
     },
     "execution_count": 7,
     "metadata": {},
     "output_type": "execute_result"
    }
   ],
   "source": [
    "## The output is 3 things from above equation (1,X1 and X1**2) which are being multiplied with Beta's.\n",
    "X_train_poly"
   ]
  },
  {
   "cell_type": "code",
   "execution_count": 8,
   "metadata": {},
   "outputs": [
    {
     "name": "stdout",
     "output_type": "stream",
     "text": [
      "Coefficient= [[0.         1.50539425 0.47947888]]\n",
      "Intercept= [2.09703874]\n",
      "Mean Absolute Error= 0.6638242886769082\n",
      "Mean Squared Error= 0.7259154054111308\n",
      "Root Mean Squared Error= 0.8520066932901001\n",
      "R2 score= 0.9481988305101462\n"
     ]
    }
   ],
   "source": [
    "## After transforming the data apply same linear regression with transformed data\n",
    "poly_Linear_reg=LinearRegression()\n",
    "poly_Linear_reg.fit(X_train_poly,Y_train)\n",
    "Y_pred=poly_Linear_reg.predict(X_test_poly)\n",
    "\n",
    "print(\"Coefficient=\",poly_Linear_reg.coef_)\n",
    "print(\"Intercept=\",poly_Linear_reg.intercept_)\n",
    "\n",
    "mae=mean_absolute_error(Y_test,Y_pred)\n",
    "mse=mean_squared_error(Y_test,Y_pred)\n",
    "rmse=np.sqrt(mse)\n",
    "print(\"Mean Absolute Error=\",mae)\n",
    "print(\"Mean Squared Error=\",mse)\n",
    "print(\"Root Mean Squared Error=\",rmse)\n",
    "print(\"R2 score=\",r2_score(Y_test,Y_pred))"
   ]
  },
  {
   "cell_type": "markdown",
   "metadata": {},
   "source": [
    "Now the accuracy has increased by very good amount. Here we are getting 3 features 1,X1 and X1**2 but initially we had only 1."
   ]
  },
  {
   "cell_type": "code",
   "execution_count": 9,
   "metadata": {},
   "outputs": [
    {
     "data": {
      "text/plain": [
       "<matplotlib.collections.PathCollection at 0x1f81d810520>"
      ]
     },
     "execution_count": 9,
     "metadata": {},
     "output_type": "execute_result"
    },
    {
     "data": {
      "image/png": "[encoded data removed]",
      "text/plain": [
       "<Figure size 432x288 with 1 Axes>"
      ]
     },
     "metadata": {
      "needs_background": "light"
     },
     "output_type": "display_data"
    }
   ],
   "source": [
    "plt.scatter(X,Y,color='g')\n",
    "plt.scatter(X_train,poly_Linear_reg.predict(X_train_poly),color='r')"
   ]
  },
  {
   "cell_type": "markdown",
   "metadata": {},
   "source": [
    "This is how polynomial regression is fiiting the non linear data."
   ]
  },
  {
   "cell_type": "code",
   "execution_count": 10,
   "metadata": {},
   "outputs": [],
   "source": [
    "## Polynomial with degree 3\n",
    "## Polynomial regression\n",
    "from sklearn.preprocessing import PolynomialFeatures\n",
    "poly_3=PolynomialFeatures(degree=3,include_bias=True)\n",
    "X_train_poly=poly_3.fit_transform(X_train)\n",
    "X_test_poly=poly_3.transform(X_test)"
   ]
  },
  {
   "cell_type": "code",
   "execution_count": 11,
   "metadata": {},
   "outputs": [
    {
     "name": "stdout",
     "output_type": "stream",
     "text": [
      "Coefficient= [[0.         1.40860325 0.48053147 0.01889642]]\n",
      "Intercept= [2.09617873]\n",
      "Mean Absolute Error= 0.6486519609975392\n",
      "Mean Squared Error= 0.6601314636593021\n",
      "Root Mean Squared Error= 0.812484746724086\n",
      "R2 score= 0.9528931586522348\n"
     ]
    }
   ],
   "source": [
    "## After transforming the data apply same linear regression with transformed data\n",
    "poly_3_Linear_reg=LinearRegression()\n",
    "poly_3_Linear_reg.fit(X_train_poly,Y_train)\n",
    "Y_pred=poly_3_Linear_reg.predict(X_test_poly)\n",
    "\n",
    "print(\"Coefficient=\",poly_3_Linear_reg.coef_)\n",
    "print(\"Intercept=\",poly_3_Linear_reg.intercept_)\n",
    "\n",
    "mae=mean_absolute_error(Y_test,Y_pred)\n",
    "mse=mean_squared_error(Y_test,Y_pred)\n",
    "rmse=np.sqrt(mse)\n",
    "print(\"Mean Absolute Error=\",mae)\n",
    "print(\"Mean Squared Error=\",mse)\n",
    "print(\"Root Mean Squared Error=\",rmse)\n",
    "print(\"R2 score=\",r2_score(Y_test,Y_pred))"
   ]
  },
  {
   "cell_type": "code",
   "execution_count": 12,
   "metadata": {},
   "outputs": [],
   "source": [
    "## Prediction on new data\n",
    "X=np.linspace(-3,3,200).reshape(200,1)\n",
    "X_new_poly=poly.transform(X)"
   ]
  },
  {
   "cell_type": "code",
   "execution_count": 13,
   "metadata": {},
   "outputs": [
    {
     "data": {
      "text/plain": [
       "<matplotlib.legend.Legend at 0x1f81d878670>"
      ]
     },
     "execution_count": 13,
     "metadata": {},
     "output_type": "execute_result"
    },
    {
     "data": {
      "image/png": "[encoded data removed]",
      "text/plain": [
       "<Figure size 432x288 with 1 Axes>"
      ]
     },
     "metadata": {
      "needs_background": "light"
     },
     "output_type": "display_data"
    }
   ],
   "source": [
    "Y_new=poly_Linear_reg.predict(X_new_poly)\n",
    "plt.plot(X,Y_new,'r',label=\"Predictions\")\n",
    "plt.scatter(X_train,Y_train,color=\"g\",label=\"Training Points\")\n",
    "plt.scatter(X_test,Y_test,color=\"b\",label=\"Testing Points\")\n",
    "plt.legend()"
   ]
  },
  {
   "cell_type": "markdown",
   "metadata": {},
   "source": [
    "#### PipeLine"
   ]
  },
  {
   "cell_type": "code",
   "execution_count": 14,
   "metadata": {},
   "outputs": [],
   "source": [
    "from sklearn.pipeline import Pipeline"
   ]
  },
  {
   "cell_type": "code",
   "execution_count": 19,
   "metadata": {},
   "outputs": [],
   "source": [
    "def polynomial_regression(degree):\n",
    "    X_new=np.linspace(-3,3,200).reshape(200,1)\n",
    "\n",
    "    poly=PolynomialFeatures(degree=degree,include_bias=True)\n",
    "    reg=LinearRegression()\n",
    "\n",
    "    poly_regression=Pipeline([\n",
    "        (\"Poly\",poly),\n",
    "        ('reg',reg)\n",
    "    ])\n",
    "    poly_regression.fit(X_train,Y_train)\n",
    "\n",
    "    Y_pred=poly_regression.predict(X_new)\n",
    "    #print(\"Score=\",r2_score(Y_test,Y_pred))\n",
    "\n",
    "    ## Plotting\n",
    "    plt.scatter(X_train,Y_train,color='g',label=\"Training Points\")\n",
    "    plt.scatter(X_test,Y_test,color='b',label=\"Testing Points\")\n",
    "    plt.plot(X_new,Y_pred,'r',label='Prediction Points')\n",
    "    plt.xlabel(\"X\")\n",
    "    plt.ylabel(\"Y\")"
   ]
  },
  {
   "cell_type": "code",
   "execution_count": 22,
   "metadata": {},
   "outputs": [
    {
     "data": {
      "image/png": "[encoded data removed]",
      "text/plain": [
       "<Figure size 432x288 with 1 Axes>"
      ]
     },
     "metadata": {
      "needs_background": "light"
     },
     "output_type": "display_data"
    }
   ],
   "source": [
    "polynomial_regression(5)"
   ]
  },
  {
   "cell_type": "markdown",
   "metadata": {},
   "source": [
    "Polynomial regression with degree 5 is generalized i.e. not overfitted nor underfitted"
   ]
  },
  {
   "cell_type": "code",
   "execution_count": 23,
   "metadata": {},
   "outputs": [
    {
     "data": {
      "image/png": "[encoded data removed]",
      "text/plain": [
       "<Figure size 432x288 with 1 Axes>"
      ]
     },
     "metadata": {
      "needs_background": "light"
     },
     "output_type": "display_data"
    }
   ],
   "source": [
    "polynomial_regression(15)"
   ]
  },
  {
   "cell_type": "markdown",
   "metadata": {},
   "source": [
    "polynomial regression with degree 15 is overfitting the points"
   ]
  },
  {
   "cell_type": "code",
   "execution_count": 26,
   "metadata": {},
   "outputs": [
    {
     "data": {
      "image/png": "[encoded data removed]",
      "text/plain": [
       "<Figure size 432x288 with 1 Axes>"
      ]
     },
     "metadata": {
      "needs_background": "light"
     },
     "output_type": "display_data"
    }
   ],
   "source": [
    "polynomial_regression(1)"
   ]
  },
  {
   "cell_type": "markdown",
   "metadata": {},
   "source": [
    "polynomial regression with degree 1 is clear case of underfitting"
   ]
  }
 ],
 "metadata": {
  "kernelspec": {
   "display_name": "Python 3.8.5 ('base')",
   "language": "python",
   "name": "python3"
  },
  "language_info": {
   "codemirror_mode": {
    "name": "ipython",
    "version": 3
   },
   "file_extension": ".py",
   "mimetype": "text/x-python",
   "name": "python",
   "nbconvert_exporter": "python",
   "pygments_lexer": "ipython3",
   "version": "3.8.5"
  },
  "orig_nbformat": 4,
  "vscode": {
   "interpreter": {
    "hash": "88279d2366fe020547cde40dd65aa0e3aa662a6ec1f3ca12d88834876c85e1a6"
   }
  }
 },
 "nbformat": 4,
 "nbformat_minor": 2
}
