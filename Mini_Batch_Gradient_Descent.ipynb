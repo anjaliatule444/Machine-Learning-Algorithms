{
 "cells": [
  {
   "cell_type": "code",
   "execution_count": 1,
   "metadata": {},
   "outputs": [],
   "source": [
    "## Import libraries\n",
    "import pandas as pd\n",
    "import numpy as np\n",
    "import matplotlib.pyplot as plt\n",
    "\n",
    "from sklearn.datasets import load_diabetes"
   ]
  },
  {
   "cell_type": "code",
   "execution_count": 2,
   "metadata": {},
   "outputs": [],
   "source": [
    "## Import dataset\n",
    "X,Y=load_diabetes(return_X_y=True)"
   ]
  },
  {
   "cell_type": "code",
   "execution_count": 3,
   "metadata": {},
   "outputs": [
    {
     "name": "stdout",
     "output_type": "stream",
     "text": [
      "(442, 10)\n",
      "(442,)\n"
     ]
    }
   ],
   "source": [
    "print(X.shape)\n",
    "print(Y.shape)"
   ]
  },
  {
   "cell_type": "code",
   "execution_count": 4,
   "metadata": {},
   "outputs": [],
   "source": [
    "## Train Test Split\n",
    "from sklearn.model_selection import train_test_split\n",
    "X_train,X_test,Y_train,Y_test=train_test_split(X,Y,test_size=0.2, random_state=2)"
   ]
  },
  {
   "cell_type": "code",
   "execution_count": 5,
   "metadata": {},
   "outputs": [
    {
     "name": "stdout",
     "output_type": "stream",
     "text": [
      "Coefficients= [  -9.15865318 -205.45432163  516.69374454  340.61999905 -895.5520019\n",
      "  561.22067904  153.89310954  126.73139688  861.12700152   52.42112238]\n",
      "Intercept= 151.88331005254167\n",
      "Mean Absolute Error= 45.21303419046903\n",
      "Mean Squared Error= 3094.4566715660626\n",
      "Root Mean Squared Error= 55.627840795469155\n",
      "R2 Score= 0.4399338661568968\n"
     ]
    }
   ],
   "source": [
    "## Implement Linear Regression\n",
    "from sklearn.linear_model import LinearRegression\n",
    "LR=LinearRegression()\n",
    "\n",
    "## Fit\n",
    "LR.fit(X_train,Y_train)\n",
    "\n",
    "## Print coefficients and intercepts\n",
    "print(\"Coefficients=\",LR.coef_)\n",
    "print(\"Intercept=\",LR.intercept_)\n",
    "\n",
    "## Prediction\n",
    "Y_pred=LR.predict(X_test)\n",
    "\n",
    "## Metrics\n",
    "from sklearn.metrics import mean_absolute_error,mean_squared_error,r2_score\n",
    "mae=mean_absolute_error(Y_test,Y_pred)\n",
    "mse=mean_squared_error(Y_test,Y_pred)\n",
    "rmse=np.sqrt(mse)\n",
    "print(\"Mean Absolute Error=\",mae)\n",
    "print(\"Mean Squared Error=\",mse)\n",
    "print(\"Root Mean Squared Error=\",rmse)\n",
    "\n",
    "score=r2_score(Y_test,Y_pred)\n",
    "print(\"R2 Score=\",score)\n"
   ]
  },
  {
   "cell_type": "markdown",
   "metadata": {},
   "source": [
    "Helper functions--> demo implementation while writing Mini Batch Gradient Descent code from scratch."
   ]
  },
  {
   "cell_type": "code",
   "execution_count": 6,
   "metadata": {},
   "outputs": [
    {
     "data": {
      "text/plain": [
       "[71, 55, 97, 65, 40, 4, 44, 76, 9, 18]"
      ]
     },
     "execution_count": 6,
     "metadata": {},
     "output_type": "execute_result"
    }
   ],
   "source": [
    "import random\n",
    "## This function is used to generate 10 numbers between specified range randomly\n",
    "random.sample(range(1,100),10)"
   ]
  },
  {
   "cell_type": "code",
   "execution_count": 7,
   "metadata": {},
   "outputs": [
    {
     "data": {
      "text/plain": [
       "array([[-0.02730979,  0.05068012, -0.02345095, -0.01599898,  0.01356652,\n",
       "         0.0127778 ,  0.02655027, -0.00259226, -0.01090325, -0.02178823],\n",
       "       [ 0.01264814,  0.05068012, -0.07195249, -0.04698463, -0.05110326,\n",
       "        -0.09713731,  0.11859122, -0.0763945 , -0.02029232, -0.03835666],\n",
       "       [ 0.04897352,  0.05068012, -0.03099563, -0.04929134,  0.0493413 ,\n",
       "        -0.00413221,  0.13331777, -0.05351581,  0.02131129,  0.01963284],\n",
       "       [ 0.04897352,  0.05068012,  0.12313149,  0.0838437 , -0.10476542,\n",
       "        -0.10089509, -0.06917231, -0.00259226,  0.03664373, -0.03007245],\n",
       "       [-0.00188202,  0.05068012, -0.02452876,  0.05285804,  0.02732605,\n",
       "         0.03000097,  0.03023191, -0.00259226, -0.02139531,  0.03620126],\n",
       "       [-0.08906294, -0.04464164, -0.01159501, -0.03665608,  0.01219057,\n",
       "         0.02499059, -0.03603757,  0.03430886,  0.02268774, -0.00936191],\n",
       "       [ 0.00175052,  0.05068012, -0.00512814, -0.01255612, -0.01532849,\n",
       "        -0.01383982,  0.00814208, -0.03949338, -0.0060811 , -0.06735141],\n",
       "       [-0.04183994, -0.04464164, -0.03315126, -0.02288468,  0.04658939,\n",
       "         0.04158746,  0.05600338, -0.02473293, -0.02595311, -0.03835666],\n",
       "       [-0.02730979,  0.05068012,  0.06061839,  0.04941519,  0.08511607,\n",
       "         0.08636769, -0.00290283,  0.03430886,  0.03781053,  0.04862759],\n",
       "       [-0.09996055, -0.04464164, -0.06764124, -0.10895595, -0.07449446,\n",
       "        -0.07271173,  0.01550536, -0.03949338, -0.04987245, -0.00936191]])"
      ]
     },
     "execution_count": 7,
     "metadata": {},
     "output_type": "execute_result"
    }
   ],
   "source": [
    "## We are getting 10 rows\n",
    "X_train[[73, 68, 69, 51, 41, 47, 83, 86, 34, 27]]"
   ]
  },
  {
   "cell_type": "code",
   "execution_count": 8,
   "metadata": {},
   "outputs": [
    {
     "data": {
      "text/plain": [
       "array([ 0.00153126, -0.22030171,  0.18532183,  0.03577504,  0.17690001,\n",
       "       -0.13317739, -0.09920573, -0.08737999,  0.42273183, -0.55162796])"
      ]
     },
     "execution_count": 8,
     "metadata": {},
     "output_type": "execute_result"
    }
   ],
   "source": [
    "demo_Y_hat=np.dot(X_train[[73, 68, 69, 51, 41, 47, 83, 86, 34, 27]],np.ones(X_train.shape[1]))+0\n",
    "demo_Y_hat"
   ]
  },
  {
   "cell_type": "code",
   "execution_count": 9,
   "metadata": {},
   "outputs": [
    {
     "data": {
      "text/plain": [
       "array([ 70.99846874,  77.22030171, 101.81467817, 280.96422496,\n",
       "        64.82309999, 206.13317739,  92.09920573,  94.08737999,\n",
       "       185.57726817,  55.55162796])"
      ]
     },
     "execution_count": 9,
     "metadata": {},
     "output_type": "execute_result"
    }
   ],
   "source": [
    "Y_train[[73, 68, 69, 51, 41, 47, 83, 86, 34, 27]]-demo_Y_hat"
   ]
  },
  {
   "cell_type": "code",
   "execution_count": 10,
   "metadata": {},
   "outputs": [],
   "source": [
    "## Mini Batch Gradient Descent \n",
    "class MBGDRegressor:\n",
    "    \n",
    "    ## Constructor\n",
    "    def __init__(self,batch_size,epochs=10,learning_rate=0.01):\n",
    "        self.coefficient_=None\n",
    "        self.intercept_=None\n",
    "        self.lr=learning_rate\n",
    "        self.epochs=epochs\n",
    "        self.batch_size=batch_size\n",
    "\n",
    "    ## Fit Method\n",
    "    def fit(self,X_train,Y_train):\n",
    "\n",
    "        ## Initialize the coefficients and intercept\n",
    "        self.intercept_=0\n",
    "        self.coefficient_=np.ones(X_train.shape[1])\n",
    "\n",
    "        ## Per epoch batch no of updates to be done where batch= len(X_train)/batch_size\n",
    "        for i in range(self.epochs):\n",
    "            for j in range(int(X_train.shape[0]) //self.batch_size):\n",
    "\n",
    "                ## in this loop we need to pick batch_size no of rows randomly\n",
    "                idx=random.sample(range(0,X_train.shape[0]),self.batch_size)\n",
    "\n",
    "                ## Calculate y_hat only for these indexes\n",
    "                y_hat=np.dot(X_train[idx],self.coefficient_)+ self.intercept_\n",
    "\n",
    "                ## Intercept derivative\n",
    "                intercept_der=-2 * np.mean(Y_train[idx]-y_hat)\n",
    "\n",
    "                ##Update Intercept\n",
    "                self.intercept_=self.intercept_- (self.lr * intercept_der)\n",
    "\n",
    "                ## Coefficient derivative\n",
    "                coef_der=-2 * np.dot((Y_train[idx]-y_hat),X_train[idx])\n",
    "\n",
    "                ## Update Coefficient\n",
    "                self.coefficient_=self.coefficient_ - (self.lr * coef_der)\n",
    "\n",
    "        print(\"Coefficients=\",self.coefficient_)\n",
    "        print(\"Intercept=\",self.intercept_)\n",
    "\n",
    "    def predict(self,X_test):\n",
    "        return (np.dot(X_test,self.coefficient_)+self.intercept_)\n"
   ]
  },
  {
   "cell_type": "code",
   "execution_count": 11,
   "metadata": {},
   "outputs": [],
   "source": [
    "## Create object of class\n",
    "mgbd=MBGDRegressor(batch_size=int(X_train.shape[0]/10),epochs=100,learning_rate=0.01)"
   ]
  },
  {
   "cell_type": "code",
   "execution_count": 12,
   "metadata": {},
   "outputs": [
    {
     "name": "stdout",
     "output_type": "stream",
     "text": [
      "Coefficients= [  28.35517684 -139.44037413  447.45171237  293.73738985  -18.4971381\n",
      "  -86.25996493 -192.05144869  114.89094033  413.11106199  110.99457108]\n",
      "Intercept= 150.9176885862555\n"
     ]
    }
   ],
   "source": [
    "## Fit \n",
    "mgbd.fit(X_train,Y_train)"
   ]
  },
  {
   "cell_type": "code",
   "execution_count": 13,
   "metadata": {},
   "outputs": [],
   "source": [
    "## Predict\n",
    "Y_pred=mgbd.predict(X_test)"
   ]
  },
  {
   "cell_type": "code",
   "execution_count": 14,
   "metadata": {},
   "outputs": [
    {
     "name": "stdout",
     "output_type": "stream",
     "text": [
      "Score= 0.45315830378080424\n"
     ]
    }
   ],
   "source": [
    "## Score\n",
    "print(\"Score=\",r2_score(Y_test,Y_pred))"
   ]
  },
  {
   "cell_type": "markdown",
   "metadata": {},
   "source": [
    "Compare the result of coefficients and intercepts with linear regression outputs"
   ]
  },
  {
   "cell_type": "markdown",
   "metadata": {},
   "source": [
    "Using Scikit Learn "
   ]
  },
  {
   "cell_type": "code",
   "execution_count": 27,
   "metadata": {},
   "outputs": [],
   "source": [
    "from sklearn.linear_model import SGDRegressor\n",
    "sgd=SGDRegressor(learning_rate='constant',eta0=0.3)"
   ]
  },
  {
   "cell_type": "code",
   "execution_count": 28,
   "metadata": {},
   "outputs": [],
   "source": [
    "## We dont have direct method of mini batch gradient descent\n",
    "batch_size=35\n",
    "\n",
    "## Considering epochs=100\n",
    "for i in range(100):\n",
    "    idx=random.sample(range(X_train.shape[0]),batch_size)\n",
    "\n",
    "    ## Partial fit is used to train data on subset of entire data\n",
    "    sgd.partial_fit(X_train[idx],Y_train[idx])"
   ]
  },
  {
   "cell_type": "code",
   "execution_count": 29,
   "metadata": {},
   "outputs": [
    {
     "data": {
      "text/plain": [
       "array([   2.92059056, -172.25133457,  507.28875905,  296.73674006,\n",
       "        -66.8030559 , -116.34930118, -234.42659927,  122.1965356 ,\n",
       "        414.75680434,   70.01568833])"
      ]
     },
     "execution_count": 29,
     "metadata": {},
     "output_type": "execute_result"
    }
   ],
   "source": [
    "## Coefficients\n",
    "sgd.coef_"
   ]
  },
  {
   "cell_type": "code",
   "execution_count": 30,
   "metadata": {},
   "outputs": [
    {
     "data": {
      "text/plain": [
       "array([165.22649579])"
      ]
     },
     "execution_count": 30,
     "metadata": {},
     "output_type": "execute_result"
    }
   ],
   "source": [
    "##Intercept\n",
    "sgd.intercept_"
   ]
  },
  {
   "cell_type": "code",
   "execution_count": 31,
   "metadata": {},
   "outputs": [],
   "source": [
    "## Predition\n",
    "Y_pred=sgd.predict(X_test)"
   ]
  },
  {
   "cell_type": "code",
   "execution_count": 32,
   "metadata": {},
   "outputs": [
    {
     "name": "stdout",
     "output_type": "stream",
     "text": [
      "Score= 0.4312663909897759\n"
     ]
    }
   ],
   "source": [
    "## Score\n",
    "print(\"Score=\",r2_score(Y_test,Y_pred))"
   ]
  },
  {
   "cell_type": "code",
   "execution_count": null,
   "metadata": {},
   "outputs": [],
   "source": []
  }
 ],
 "metadata": {
  "kernelspec": {
   "display_name": "Python 3.8.5 ('base')",
   "language": "python",
   "name": "python3"
  },
  "language_info": {
   "codemirror_mode": {
    "name": "ipython",
    "version": 3
   },
   "file_extension": ".py",
   "mimetype": "text/x-python",
   "name": "python",
   "nbconvert_exporter": "python",
   "pygments_lexer": "ipython3",
   "version": "3.8.5"
  },
  "orig_nbformat": 4,
  "vscode": {
   "interpreter": {
    "hash": "88279d2366fe020547cde40dd65aa0e3aa662a6ec1f3ca12d88834876c85e1a6"
   }
  }
 },
 "nbformat": 4,
 "nbformat_minor": 2
}
